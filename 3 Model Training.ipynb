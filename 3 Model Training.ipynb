{
 "cells": [
  {
   "cell_type": "code",
   "execution_count": 1,
   "id": "c37ad367",
   "metadata": {},
   "outputs": [],
   "source": [
    "import os\n",
    "import sys\n",
    "base_dir = os.getcwd()\n",
    "# base_dir = os.path.dirname(current_dir)\n",
    "\n",
    "# sys.path.append(base_dir)"
   ]
  },
  {
   "cell_type": "code",
   "execution_count": 2,
   "id": "64563e0e",
   "metadata": {},
   "outputs": [
    {
     "name": "stderr",
     "output_type": "stream",
     "text": [
      "C:\\Users\\A1\\miniconda3\\envs\\nbl\\lib\\site-packages\\xgboost\\compat.py:36: FutureWarning: pandas.Int64Index is deprecated and will be removed from pandas in a future version. Use pandas.Index with the appropriate dtype instead.\n",
      "  from pandas import MultiIndex, Int64Index\n"
     ]
    }
   ],
   "source": [
    "import pandas as pd\n",
    "import os\n",
    "from os import listdir\n",
    "from sklearn.preprocessing import MinMaxScaler\n",
    "from sklearn.ensemble import RandomForestRegressor\n",
    "from xgboost.sklearn import XGBRegressor\n",
    "import sklearn.metrics as metrics\n",
    "from utilities import featurization as fzn\n",
    "from model import tecrf\n",
    "import joblib\n",
    "\n",
    "# The directory contains the dataset that has been divided into train, val, and test data with a 5 fold cross validation scheme\n",
    "data_url = os.path.join(base_dir, 'data/preprocessed_dataset/5fold_cv')"
   ]
  },
  {
   "cell_type": "markdown",
   "id": "05d2b2c8",
   "metadata": {},
   "source": [
    "## Model Evaluation"
   ]
  },
  {
   "cell_type": "code",
   "execution_count": 3,
   "id": "3d735ff8",
   "metadata": {},
   "outputs": [],
   "source": [
    "def reader_dataset(url):\n",
    "    list_folder = listdir(url)\n",
    "    list_df = []\n",
    "    for f in list_folder:\n",
    "        df_train = pd.read_csv(url+'/'+f+'/train.csv')\n",
    "        df_val = pd.read_csv(url+'/'+f+'/val.csv')\n",
    "        df_test = pd.read_csv(url+'/'+f+'/test.csv')\n",
    "        list_df.append([df_train, df_val, df_test])\n",
    "    return list_df\n",
    "\n",
    "def confusion_matrix_calc(actual_, predict_, boundary):\n",
    "    assert len(actual_)==len(predict_)\n",
    "    TP = 0\n",
    "    TN = 0\n",
    "    FP = 0\n",
    "    FN = 0\n",
    "    for n in range(len(actual_)):\n",
    "        if actual_[n]>=boundary and predict_[n]>=boundary:\n",
    "            TP+=1\n",
    "        elif actual_[n]<boundary and predict_[n]<boundary:\n",
    "            TN+=1\n",
    "        elif actual_[n]>=boundary and predict_[n]<boundary:\n",
    "            FN+=1\n",
    "        elif actual_[n]<boundary and predict_[n]>=boundary:\n",
    "            FP+=1\n",
    "    return TP, TN, FP, FN\n",
    "\n",
    "def model_test(train, test, model):\n",
    "    X_train, y_train, formulae_train = fzn.apply_scheme(train['formula'], list(train['target']))\n",
    "    X_test, y_test, formulae_test = fzn.apply_scheme(test['formula'], list(test['target']))\n",
    "    \n",
    "    scalar = MinMaxScaler()\n",
    "    X_train_scaled = scalar.fit_transform(X_train)\n",
    "    X_test_scaled = scalar.transform(X_test)\n",
    "    print\n",
    "    model.fit(X_train_scaled, y_train)\n",
    "    y_pred = model.predict(X_test_scaled)\n",
    "    \n",
    "    return y_test, y_pred, formulae_test"
   ]
  },
  {
   "cell_type": "code",
   "execution_count": 13,
   "id": "80e13683",
   "metadata": {
    "scrolled": true
   },
   "outputs": [
    {
     "name": "stdout",
     "output_type": "stream",
     "text": [
      "(203, 300)\n",
      "300\n",
      "TP=89, TN=88, FP=12, FN=14\n",
      "Fold 1 - MAE: 0.538271508136359 - RMSE: 0.8875461785911979 - F1: 0.8725490196078431\n",
      "(203, 300)\n",
      "300\n",
      "TP=92, TN=86, FP=14, FN=11\n",
      "Fold 2 - MAE: 0.5216157463059629 - RMSE: 0.8939847545424597 - F1: 0.8803827751196173\n",
      "(203, 300)\n",
      "300\n",
      "TP=87, TN=86, FP=14, FN=16\n",
      "Fold 3 - MAE: 0.5249393336296674 - RMSE: 0.8807859970578052 - F1: 0.8529411764705882\n",
      "(203, 300)\n",
      "300\n",
      "TP=89, TN=86, FP=14, FN=14\n",
      "Fold 4 - MAE: 0.5512844362699056 - RMSE: 0.8963446421217607 - F1: 0.8640776699029126\n",
      "(203, 300)\n",
      "300\n",
      "TP=92, TN=88, FP=12, FN=11\n",
      "Fold 5 - MAE: 0.5315203482080151 - RMSE: 0.8966167064027354 - F1: 0.8888888888888888\n",
      "Avg MAE: 0.533526274509982 - Avg Recall: 0.8718446601941748 - Avg Precision: 0.8718383680491855 - Avg F1: 0.8717679059979702\n",
      "Avg R2: 0.6598700320261035 - Avg RMSE: 0.8910556557431917\n"
     ]
    }
   ],
   "source": [
    "mae_list = []\n",
    "pred_list = []\n",
    "y_list = []\n",
    "formula_list = []\n",
    "recall_list = []\n",
    "precision_list = []\n",
    "f1_list = []\n",
    "rmse_list = []\n",
    "r2_list = []\n",
    "error_list = []\n",
    "\n",
    "data_kfold = reader_dataset(data_url) #read data\n",
    "\n",
    "for d in range(len(data_kfold)):\n",
    "    train = data_kfold[d][0]\n",
    "    val = data_kfold[d][1]\n",
    "    test = data_kfold[d][2]\n",
    "    \n",
    "#     model = RandomForestRegressor(random_state = 1, n_estimators= 300, min_samples_split= 5, min_samples_leaf= 2, max_features= 'sqrt', max_depth= 50, bootstrap= False)\n",
    "#     model = XGBRegressor(random_state = 0, n_estimators= 300, max_depth=7, learning_rate=0.1, colsample_bytree=0.6)\n",
    "    \n",
    "#     y_test, y_pred, formulae_test = model_test(train, test, model)\n",
    "    params = {\n",
    "                    'rf1':[None, 150],\n",
    "                    'rf2':[0.3, 150],\n",
    "#                     'rf3':[0.2, 100],\n",
    "\n",
    "                }\n",
    "    model = tecrf.TECRF(parameters=params)\n",
    "    model.train(train, val)\n",
    "    y_pred = model.predict(test)\n",
    "    y_test = test['target']\n",
    "    formulae_test = test['formula']\n",
    "    \n",
    "    mae = metrics.mean_absolute_error(y_test, y_pred)\n",
    "    r2 = metrics.r2_score(y_test, y_pred)\n",
    "    rmse = metrics.mean_squared_error(y_test, y_pred, squared=False)\n",
    "\n",
    "    mae_list.append(mae)\n",
    "    r2_list.append(r2)\n",
    "    rmse_list.append(rmse)\n",
    "    pred_list.append(list(y_pred))\n",
    "    error_list.append([y_act-ypred for y_act, ypred in zip(y_test, y_pred)])\n",
    "    y_list.append(list(y_test))\n",
    "    formula_list.append(list(formulae_test))\n",
    "\n",
    "    TP, TN, FP, FN = confusion_matrix_calc(y_test, y_pred, -4)\n",
    "    print('TP={}, TN={}, FP={}, FN={}'.format(TP, TN, FP, FN))\n",
    "    rec_ = TP/(TP+FN)\n",
    "    pre_ = TP/(TP+FP)\n",
    "    f1_score = 2 * (pre_ * rec_) / (pre_ + rec_)\n",
    "    recall_list.append(rec_)\n",
    "    precision_list.append(pre_)\n",
    "    f1_list.append(f1_score)\n",
    "    \n",
    "    print('Fold {} - MAE: {} - RMSE: {} - F1: {}'.format(d+1, mae, rmse, f1_score))\n",
    "    \n",
    "print('Avg MAE: {} - Avg Recall: {} - Avg Precision: {} - Avg F1: {}'.format(sum(mae_list)/len(mae_list), sum(recall_list)/len(recall_list), sum(precision_list)/len(precision_list), sum(f1_list)/len(f1_list)))\n",
    "print('Avg R2: {} - Avg RMSE: {}'.format(sum(r2_list)/len(r2_list), sum(rmse_list)/len(rmse_list)))"
   ]
  },
  {
   "cell_type": "markdown",
   "id": "26cd08c4",
   "metadata": {},
   "source": [
    "## Training\n"
   ]
  },
  {
   "cell_type": "code",
   "execution_count": 53,
   "id": "1eb05e92",
   "metadata": {},
   "outputs": [
    {
     "data": {
      "text/plain": [
       "['D:\\\\GITHUB\\\\ML_SSE\\\\model.joblib']"
      ]
     },
     "execution_count": 53,
     "metadata": {},
     "output_type": "execute_result"
    }
   ],
   "source": [
    "train = pd.read_csv(data_url+'/1/train.csv')\n",
    "val = pd.read_csv(data_url+'/1/val.csv')\n",
    "test = pd.read_csv(data_url+'/1/test.csv')\n",
    "trainnval = pd.concat([train, val]).reset_index()\n",
    "\n",
    "model = tecrf.TECRF()\n",
    "model.train(trainnval, test)\n",
    "\n",
    "model_url = os.path.join(base_dir, 'model.joblib')\n",
    "joblib.dump(model, model_url)"
   ]
  },
  {
   "cell_type": "markdown",
   "id": "6f6b315b",
   "metadata": {},
   "source": [
    "## Predict new data"
   ]
  },
  {
   "cell_type": "code",
   "execution_count": 64,
   "id": "594874a7",
   "metadata": {},
   "outputs": [],
   "source": [
    "data_substitution = pd.read_csv(os.path.join(base_dir, 'element_substitution/new_formula.csv'))\n",
    "dummy_target = [0]*len(new_data)\n",
    "\n",
    "data_substitution = pd.DataFrame({'formula':list(data_substitution['new_formula']), 'target':dummy_target})"
   ]
  },
  {
   "cell_type": "code",
   "execution_count": 65,
   "id": "6dcc071d",
   "metadata": {},
   "outputs": [
    {
     "name": "stdout",
     "output_type": "stream",
     "text": [
      "(18262, 750)\n",
      "750\n"
     ]
    },
    {
     "data": {
      "text/html": [
       "<div>\n",
       "<style scoped>\n",
       "    .dataframe tbody tr th:only-of-type {\n",
       "        vertical-align: middle;\n",
       "    }\n",
       "\n",
       "    .dataframe tbody tr th {\n",
       "        vertical-align: top;\n",
       "    }\n",
       "\n",
       "    .dataframe thead th {\n",
       "        text-align: right;\n",
       "    }\n",
       "</style>\n",
       "<table border=\"1\" class=\"dataframe\">\n",
       "  <thead>\n",
       "    <tr style=\"text-align: right;\">\n",
       "      <th></th>\n",
       "      <th>formula</th>\n",
       "      <th>prediction</th>\n",
       "    </tr>\n",
       "  </thead>\n",
       "  <tbody>\n",
       "    <tr>\n",
       "      <th>0</th>\n",
       "      <td>Li4.2Si0.8Ga0.2S4</td>\n",
       "      <td>-6.140656</td>\n",
       "    </tr>\n",
       "    <tr>\n",
       "      <th>1</th>\n",
       "      <td>Li4.2Si0.8Fe0.2S4</td>\n",
       "      <td>-5.622127</td>\n",
       "    </tr>\n",
       "    <tr>\n",
       "      <th>2</th>\n",
       "      <td>Li4.2Si0.8Cr0.2S4</td>\n",
       "      <td>-5.580930</td>\n",
       "    </tr>\n",
       "    <tr>\n",
       "      <th>3</th>\n",
       "      <td>Li4.2Si0.8In0.2S4</td>\n",
       "      <td>-5.485577</td>\n",
       "    </tr>\n",
       "    <tr>\n",
       "      <th>4</th>\n",
       "      <td>Li4.2Si0.8Co0.2S4</td>\n",
       "      <td>-5.649385</td>\n",
       "    </tr>\n",
       "    <tr>\n",
       "      <th>...</th>\n",
       "      <td>...</td>\n",
       "      <td>...</td>\n",
       "    </tr>\n",
       "    <tr>\n",
       "      <th>18257</th>\n",
       "      <td>Li7Ho3Sn2O12</td>\n",
       "      <td>-6.246554</td>\n",
       "    </tr>\n",
       "    <tr>\n",
       "      <th>18258</th>\n",
       "      <td>Li7Ho3Tb2O12</td>\n",
       "      <td>-7.687574</td>\n",
       "    </tr>\n",
       "    <tr>\n",
       "      <th>18259</th>\n",
       "      <td>Li7Ho3Mo2O12</td>\n",
       "      <td>-7.250024</td>\n",
       "    </tr>\n",
       "    <tr>\n",
       "      <th>18260</th>\n",
       "      <td>Li7Ho3Pb2O12</td>\n",
       "      <td>-6.133337</td>\n",
       "    </tr>\n",
       "    <tr>\n",
       "      <th>18261</th>\n",
       "      <td>Li7Ho3Ru2O12</td>\n",
       "      <td>-7.180247</td>\n",
       "    </tr>\n",
       "  </tbody>\n",
       "</table>\n",
       "<p>18262 rows × 2 columns</p>\n",
       "</div>"
      ],
      "text/plain": [
       "                 formula  prediction\n",
       "0      Li4.2Si0.8Ga0.2S4   -6.140656\n",
       "1      Li4.2Si0.8Fe0.2S4   -5.622127\n",
       "2      Li4.2Si0.8Cr0.2S4   -5.580930\n",
       "3      Li4.2Si0.8In0.2S4   -5.485577\n",
       "4      Li4.2Si0.8Co0.2S4   -5.649385\n",
       "...                  ...         ...\n",
       "18257       Li7Ho3Sn2O12   -6.246554\n",
       "18258       Li7Ho3Tb2O12   -7.687574\n",
       "18259       Li7Ho3Mo2O12   -7.250024\n",
       "18260       Li7Ho3Pb2O12   -6.133337\n",
       "18261       Li7Ho3Ru2O12   -7.180247\n",
       "\n",
       "[18262 rows x 2 columns]"
      ]
     },
     "execution_count": 65,
     "metadata": {},
     "output_type": "execute_result"
    }
   ],
   "source": [
    "model= joblib.load(model_url)\n",
    "\n",
    "prediction = model.predict(data_substitution)\n",
    "df_predict = pd.DataFrame({'formula': data_substitution['formula'], 'prediction':prediction})\n",
    "df_predict"
   ]
  },
  {
   "cell_type": "code",
   "execution_count": 66,
   "id": "2ecf404e",
   "metadata": {},
   "outputs": [
    {
     "data": {
      "text/plain": [
       "<AxesSubplot:>"
      ]
     },
     "execution_count": 66,
     "metadata": {},
     "output_type": "execute_result"
    },
    {
     "data": {
      "image/png": "[encoded data removed]",
      "text/plain": [
       "<Figure size 432x288 with 1 Axes>"
      ]
     },
     "metadata": {
      "needs_background": "light"
     },
     "output_type": "display_data"
    }
   ],
   "source": [
    "df_predict['prediction'].hist()"
   ]
  },
  {
   "cell_type": "code",
   "execution_count": 69,
   "id": "9f65da53",
   "metadata": {},
   "outputs": [],
   "source": [
    "df_predict.to_csv(os.path.join(base_dir, 'new_formula_prediction.csv'))"
   ]
  },
  {
   "cell_type": "code",
   "execution_count": null,
   "id": "8f02ce53",
   "metadata": {},
   "outputs": [],
   "source": []
  }
 ],
 "metadata": {
  "kernelspec": {
   "display_name": "Python 3 (ipykernel)",
   "language": "python",
   "name": "python3"
  },
  "language_info": {
   "codemirror_mode": {
    "name": "ipython",
    "version": 3
   },
   "file_extension": ".py",
   "mimetype": "text/x-python",
   "name": "python",
   "nbconvert_exporter": "python",
   "pygments_lexer": "ipython3",
   "version": "3.9.12"
  }
 },
 "nbformat": 4,
 "nbformat_minor": 5
}
