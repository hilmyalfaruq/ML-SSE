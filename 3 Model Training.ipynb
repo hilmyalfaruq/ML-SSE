{
 "cells": [
  {
   "cell_type": "code",
   "execution_count": 30,
   "id": "64563e0e",
   "metadata": {},
   "outputs": [],
   "source": [
    "import pandas as pd\n",
    "import os\n",
    "from os import listdir\n",
    "from sklearn.preprocessing import MinMaxScaler\n",
    "from sklearn.ensemble import RandomForestRegressor\n",
    "import sklearn.metrics as metrics\n",
    "import featurization as fzn\n",
    "import joblib\n",
    "\n",
    "base_url = 'D:/GITHUB/ML_SSE'\n",
    "# The directory contains the dataset that has been divided into train, val, and test data with a 5 fold cross validation scheme\n",
    "data_url = os.path.join(base_url, 'data/preprocessed_dataset/5fold_cv')"
   ]
  },
  {
   "cell_type": "markdown",
   "id": "05d2b2c8",
   "metadata": {},
   "source": [
    "## Model Evaluation"
   ]
  },
  {
   "cell_type": "code",
   "execution_count": 24,
   "id": "3d735ff8",
   "metadata": {},
   "outputs": [],
   "source": [
    "def reader_dataset(url):\n",
    "    list_folder = listdir(url)\n",
    "    list_df = []\n",
    "    for f in list_folder:\n",
    "        df_train = pd.read_csv(url+'/'+f+'/train.csv')\n",
    "        df_val = pd.read_csv(url+'/'+f+'/val.csv')\n",
    "        df_test = pd.read_csv(url+'/'+f+'/test.csv')\n",
    "        list_df.append([df_train, df_test])\n",
    "    return list_df\n",
    "\n",
    "def confusion_matrix_calc(actual_, predict_, boundary):\n",
    "    assert len(actual_)==len(predict_)\n",
    "    TP = 0\n",
    "    TN = 0\n",
    "    FP = 0\n",
    "    FN = 0\n",
    "    for n in range(len(actual_)):\n",
    "        if actual_[n]>=boundary and predict_[n]>=boundary:\n",
    "            TP+=1\n",
    "        elif actual_[n]<boundary and predict_[n]<boundary:\n",
    "            TN+=1\n",
    "        elif actual_[n]>=boundary and predict_[n]<boundary:\n",
    "            FN+=1\n",
    "        elif actual_[n]<boundary and predict_[n]>=boundary:\n",
    "            FP+=1\n",
    "    return TP, TN, FP, FN\n",
    "\n",
    "def model_test(train, test, model):\n",
    "    X_train, y_train, formulae_train = fzn.apply_scheme(train['formula'], list(train['target']))\n",
    "    X_test, y_test, formulae_test = fzn.apply_scheme(test['formula'], list(test['target']))\n",
    "    \n",
    "    scalar = MinMaxScaler()\n",
    "    X_train_scaled = scalar.fit_transform(X_train)\n",
    "    X_test_scaled = scalar.transform(X_test)\n",
    "    print\n",
    "    model.fit(X_train_scaled, y_train)\n",
    "    y_pred = model.predict(X_test_scaled)\n",
    "    \n",
    "    return y_test, y_pred, formulae_test"
   ]
  },
  {
   "cell_type": "code",
   "execution_count": 26,
   "id": "80e13683",
   "metadata": {},
   "outputs": [
    {
     "name": "stdout",
     "output_type": "stream",
     "text": [
      "(690, 161)\n",
      "(216, 161)\n"
     ]
    },
    {
     "name": "stderr",
     "output_type": "stream",
     "text": [
      "C:\\Users\\A1\\miniconda3\\envs\\p0\\lib\\site-packages\\sklearn\\utils\\validation.py:1673: FutureWarning: Feature names only support names that are all strings. Got feature names with dtypes: ['str', 'str_']. An error will be raised in 1.2.\n",
      "  warnings.warn(\n",
      "C:\\Users\\A1\\miniconda3\\envs\\p0\\lib\\site-packages\\sklearn\\utils\\validation.py:1673: FutureWarning: Feature names only support names that are all strings. Got feature names with dtypes: ['str', 'str_']. An error will be raised in 1.2.\n",
      "  warnings.warn(\n",
      "C:\\Users\\A1\\miniconda3\\envs\\p0\\lib\\site-packages\\sklearn\\utils\\validation.py:1673: FutureWarning: Feature names only support names that are all strings. Got feature names with dtypes: ['str', 'str_']. An error will be raised in 1.2.\n",
      "  warnings.warn(\n"
     ]
    },
    {
     "name": "stdout",
     "output_type": "stream",
     "text": [
      "TP=101, TN=95, FP=8, FN=12\n",
      "Fold 1 - MAE: 0.6213289537540261 - F1: 0.9099099099099099\n",
      "(690, 161)\n",
      "(216, 161)\n"
     ]
    },
    {
     "name": "stderr",
     "output_type": "stream",
     "text": [
      "C:\\Users\\A1\\miniconda3\\envs\\p0\\lib\\site-packages\\sklearn\\utils\\validation.py:1673: FutureWarning: Feature names only support names that are all strings. Got feature names with dtypes: ['str', 'str_']. An error will be raised in 1.2.\n",
      "  warnings.warn(\n",
      "C:\\Users\\A1\\miniconda3\\envs\\p0\\lib\\site-packages\\sklearn\\utils\\validation.py:1673: FutureWarning: Feature names only support names that are all strings. Got feature names with dtypes: ['str', 'str_']. An error will be raised in 1.2.\n",
      "  warnings.warn(\n",
      "C:\\Users\\A1\\miniconda3\\envs\\p0\\lib\\site-packages\\sklearn\\utils\\validation.py:1673: FutureWarning: Feature names only support names that are all strings. Got feature names with dtypes: ['str', 'str_']. An error will be raised in 1.2.\n",
      "  warnings.warn(\n"
     ]
    },
    {
     "name": "stdout",
     "output_type": "stream",
     "text": [
      "TP=94, TN=95, FP=8, FN=19\n",
      "Fold 2 - MAE: 0.6874568632332125 - F1: 0.8744186046511628\n",
      "(690, 161)\n",
      "(216, 161)\n"
     ]
    },
    {
     "name": "stderr",
     "output_type": "stream",
     "text": [
      "C:\\Users\\A1\\miniconda3\\envs\\p0\\lib\\site-packages\\sklearn\\utils\\validation.py:1673: FutureWarning: Feature names only support names that are all strings. Got feature names with dtypes: ['str', 'str_']. An error will be raised in 1.2.\n",
      "  warnings.warn(\n",
      "C:\\Users\\A1\\miniconda3\\envs\\p0\\lib\\site-packages\\sklearn\\utils\\validation.py:1673: FutureWarning: Feature names only support names that are all strings. Got feature names with dtypes: ['str', 'str_']. An error will be raised in 1.2.\n",
      "  warnings.warn(\n",
      "C:\\Users\\A1\\miniconda3\\envs\\p0\\lib\\site-packages\\sklearn\\utils\\validation.py:1673: FutureWarning: Feature names only support names that are all strings. Got feature names with dtypes: ['str', 'str_']. An error will be raised in 1.2.\n",
      "  warnings.warn(\n"
     ]
    },
    {
     "name": "stdout",
     "output_type": "stream",
     "text": [
      "TP=95, TN=95, FP=8, FN=18\n",
      "Fold 3 - MAE: 0.6373750413930179 - F1: 0.8796296296296297\n",
      "(691, 161)\n",
      "(216, 161)\n"
     ]
    },
    {
     "name": "stderr",
     "output_type": "stream",
     "text": [
      "C:\\Users\\A1\\miniconda3\\envs\\p0\\lib\\site-packages\\sklearn\\utils\\validation.py:1673: FutureWarning: Feature names only support names that are all strings. Got feature names with dtypes: ['str', 'str_']. An error will be raised in 1.2.\n",
      "  warnings.warn(\n",
      "C:\\Users\\A1\\miniconda3\\envs\\p0\\lib\\site-packages\\sklearn\\utils\\validation.py:1673: FutureWarning: Feature names only support names that are all strings. Got feature names with dtypes: ['str', 'str_']. An error will be raised in 1.2.\n",
      "  warnings.warn(\n",
      "C:\\Users\\A1\\miniconda3\\envs\\p0\\lib\\site-packages\\sklearn\\utils\\validation.py:1673: FutureWarning: Feature names only support names that are all strings. Got feature names with dtypes: ['str', 'str_']. An error will be raised in 1.2.\n",
      "  warnings.warn(\n"
     ]
    },
    {
     "name": "stdout",
     "output_type": "stream",
     "text": [
      "TP=96, TN=93, FP=10, FN=17\n",
      "Fold 4 - MAE: 0.6075133808790175 - F1: 0.8767123287671234\n",
      "(691, 161)\n",
      "(216, 161)\n"
     ]
    },
    {
     "name": "stderr",
     "output_type": "stream",
     "text": [
      "C:\\Users\\A1\\miniconda3\\envs\\p0\\lib\\site-packages\\sklearn\\utils\\validation.py:1673: FutureWarning: Feature names only support names that are all strings. Got feature names with dtypes: ['str', 'str_']. An error will be raised in 1.2.\n",
      "  warnings.warn(\n",
      "C:\\Users\\A1\\miniconda3\\envs\\p0\\lib\\site-packages\\sklearn\\utils\\validation.py:1673: FutureWarning: Feature names only support names that are all strings. Got feature names with dtypes: ['str', 'str_']. An error will be raised in 1.2.\n",
      "  warnings.warn(\n",
      "C:\\Users\\A1\\miniconda3\\envs\\p0\\lib\\site-packages\\sklearn\\utils\\validation.py:1673: FutureWarning: Feature names only support names that are all strings. Got feature names with dtypes: ['str', 'str_']. An error will be raised in 1.2.\n",
      "  warnings.warn(\n"
     ]
    },
    {
     "name": "stdout",
     "output_type": "stream",
     "text": [
      "TP=98, TN=96, FP=7, FN=15\n",
      "Fold 5 - MAE: 0.621850384960995 - F1: 0.8990825688073395\n",
      "Avg MAE: 0.6351049248440538 - Avg Recall: 0.856637168141593 - Avg Precision: 0.9218995879634677 - Avg F1: 0.8879506083530331\n",
      "Avg R2: 0.6632704303130549 - Avg RMSE: 1.16615849354198\n"
     ]
    }
   ],
   "source": [
    "mae_list = []\n",
    "pred_list = []\n",
    "y_list = []\n",
    "formula_list = []\n",
    "recall_list = []\n",
    "precision_list = []\n",
    "f1_list = []\n",
    "rmse_list = []\n",
    "r2_list = []\n",
    "\n",
    "data_kfold = reader_dataset(data_url) #read data\n",
    "\n",
    "for d in range(len(data_kfold)):\n",
    "    train = data_kfold[d][0]\n",
    "    test = data_kfold[d][1]\n",
    "    \n",
    "    model = RandomForestRegressor(random_state = 1, n_estimators= 300, min_samples_split= 5, min_samples_leaf= 2, max_features= 'sqrt', max_depth= 50, bootstrap= False)\n",
    "    \n",
    "    y_test, y_pred, formulae_test = model_test(train, test, model)\n",
    "\n",
    "    mae = metrics.mean_absolute_error(y_test, y_pred)\n",
    "    r2 = metrics.r2_score(y_test, y_pred)\n",
    "    rmse = metrics.mean_squared_error(y_test, y_pred, squared=False)\n",
    "\n",
    "    mae_list.append(mae)\n",
    "    r2_list.append(r2)\n",
    "    rmse_list.append(rmse)\n",
    "    pred_list.append(list(y_pred))\n",
    "    y_list.append(list(y_test))\n",
    "    formula_list.append(list(formulae_test))\n",
    "\n",
    "    TP, TN, FP, FN = confusion_matrix_calc(y_test, y_pred, -4)\n",
    "    print('TP={}, TN={}, FP={}, FN={}'.format(TP, TN, FP, FN))\n",
    "    rec_ = TP/(TP+FN)\n",
    "    pre_ = TP/(TP+FP)\n",
    "    f1_score = 2 * (pre_ * rec_) / (pre_ + rec_)\n",
    "    recall_list.append(rec_)\n",
    "    precision_list.append(pre_)\n",
    "    f1_list.append(f1_score)\n",
    "    \n",
    "    print('Fold {} - MAE: {} - F1: {}'.format(d+1, mae, f1_score))\n",
    "    \n",
    "print('Avg MAE: {} - Avg Recall: {} - Avg Precision: {} - Avg F1: {}'.format(sum(mae_list)/len(mae_list), sum(recall_list)/len(recall_list), sum(precision_list)/len(precision_list), sum(f1_list)/len(f1_list)))\n",
    "print('Avg R2: {} - Avg RMSE: {}'.format(sum(r2_list)/len(r2_list), sum(rmse_list)/len(rmse_list)))"
   ]
  },
  {
   "cell_type": "markdown",
   "id": "26cd08c4",
   "metadata": {},
   "source": [
    "## Training\n"
   ]
  },
  {
   "cell_type": "code",
   "execution_count": 49,
   "id": "1eb05e92",
   "metadata": {},
   "outputs": [
    {
     "name": "stdout",
     "output_type": "stream",
     "text": [
      "(1079, 161)\n"
     ]
    },
    {
     "name": "stderr",
     "output_type": "stream",
     "text": [
      "C:\\Users\\A1\\miniconda3\\envs\\p0\\lib\\site-packages\\sklearn\\utils\\validation.py:1673: FutureWarning: Feature names only support names that are all strings. Got feature names with dtypes: ['str', 'str_']. An error will be raised in 1.2.\n",
      "  warnings.warn(\n",
      "C:\\Users\\A1\\miniconda3\\envs\\p0\\lib\\site-packages\\sklearn\\utils\\validation.py:1673: FutureWarning: Feature names only support names that are all strings. Got feature names with dtypes: ['str', 'str_']. An error will be raised in 1.2.\n",
      "  warnings.warn(\n"
     ]
    },
    {
     "data": {
      "text/plain": [
       "['D:/GITHUB/ML_SSE\\\\model.joblib']"
      ]
     },
     "execution_count": 49,
     "metadata": {},
     "output_type": "execute_result"
    }
   ],
   "source": [
    "train1 = pd.read_csv(data_url+'/1/train.csv')\n",
    "val1 = pd.read_csv(data_url+'/1/val.csv')\n",
    "test1 = pd.read_csv(data_url+'/1/test.csv')\n",
    "all_data = pd.concat([train1, val1, test1]).reset_index()\n",
    "\n",
    "X_data, y_data, _ = fzn.apply_scheme(all_data['formula'], list(all_data['target']))\n",
    "scaler = MinMaxScaler()\n",
    "X_train_scaled = scaler.fit_transform(X_data)\n",
    "    \n",
    "model = RandomForestRegressor(random_state = 1, n_estimators= 300, min_samples_split= 5, min_samples_leaf= 2, max_features= 'sqrt', max_depth= 50, bootstrap= False)\n",
    "model.fit(X_train_scaled, y_data)\n",
    "\n",
    "data_to_save = [model, scaler]\n",
    "model_url = os.path.join(base_url, 'model.joblib')\n",
    "joblib.dump(data_to_save, model_url)"
   ]
  },
  {
   "cell_type": "markdown",
   "id": "6f6b315b",
   "metadata": {},
   "source": [
    "## Predict new data"
   ]
  },
  {
   "cell_type": "code",
   "execution_count": 50,
   "id": "594874a7",
   "metadata": {},
   "outputs": [],
   "source": [
    "new_data = pd.read_csv(os.path.join(base_url, 'element_substitution/new_formula.csv'))\n",
    "dummy_target = [0]*len(new_data)"
   ]
  },
  {
   "cell_type": "code",
   "execution_count": 51,
   "id": "bed2c64d",
   "metadata": {
    "scrolled": true
   },
   "outputs": [
    {
     "name": "stdout",
     "output_type": "stream",
     "text": [
      "(18262, 161)\n"
     ]
    }
   ],
   "source": [
    "X_new_data, y_new_data, formulae_new_data = fzn.apply_scheme(new_data['new_formula'], dummy_target)"
   ]
  },
  {
   "cell_type": "code",
   "execution_count": 52,
   "id": "6dcc071d",
   "metadata": {},
   "outputs": [
    {
     "name": "stderr",
     "output_type": "stream",
     "text": [
      "C:\\Users\\A1\\miniconda3\\envs\\p0\\lib\\site-packages\\sklearn\\utils\\validation.py:1673: FutureWarning: Feature names only support names that are all strings. Got feature names with dtypes: ['str', 'str_']. An error will be raised in 1.2.\n",
      "  warnings.warn(\n"
     ]
    },
    {
     "data": {
      "text/html": [
       "<div>\n",
       "<style scoped>\n",
       "    .dataframe tbody tr th:only-of-type {\n",
       "        vertical-align: middle;\n",
       "    }\n",
       "\n",
       "    .dataframe tbody tr th {\n",
       "        vertical-align: top;\n",
       "    }\n",
       "\n",
       "    .dataframe thead th {\n",
       "        text-align: right;\n",
       "    }\n",
       "</style>\n",
       "<table border=\"1\" class=\"dataframe\">\n",
       "  <thead>\n",
       "    <tr style=\"text-align: right;\">\n",
       "      <th></th>\n",
       "      <th>formula</th>\n",
       "      <th>prediction</th>\n",
       "    </tr>\n",
       "  </thead>\n",
       "  <tbody>\n",
       "    <tr>\n",
       "      <th>0</th>\n",
       "      <td>Li4.2Si0.8Ga0.2S4</td>\n",
       "      <td>-6.889458</td>\n",
       "    </tr>\n",
       "    <tr>\n",
       "      <th>1</th>\n",
       "      <td>Li4.2Si0.8Fe0.2S4</td>\n",
       "      <td>-6.577390</td>\n",
       "    </tr>\n",
       "    <tr>\n",
       "      <th>2</th>\n",
       "      <td>Li4.2Si0.8Cr0.2S4</td>\n",
       "      <td>-6.517595</td>\n",
       "    </tr>\n",
       "    <tr>\n",
       "      <th>3</th>\n",
       "      <td>Li4.2Si0.8In0.2S4</td>\n",
       "      <td>-6.264806</td>\n",
       "    </tr>\n",
       "    <tr>\n",
       "      <th>4</th>\n",
       "      <td>Li4.2Si0.8Co0.2S4</td>\n",
       "      <td>-6.521149</td>\n",
       "    </tr>\n",
       "    <tr>\n",
       "      <th>...</th>\n",
       "      <td>...</td>\n",
       "      <td>...</td>\n",
       "    </tr>\n",
       "    <tr>\n",
       "      <th>18257</th>\n",
       "      <td>Li7Ho3Sn2O12</td>\n",
       "      <td>-6.548599</td>\n",
       "    </tr>\n",
       "    <tr>\n",
       "      <th>18258</th>\n",
       "      <td>Li7Ho3Tb2O12</td>\n",
       "      <td>-7.818716</td>\n",
       "    </tr>\n",
       "    <tr>\n",
       "      <th>18259</th>\n",
       "      <td>Li7Ho3Mo2O12</td>\n",
       "      <td>-7.085422</td>\n",
       "    </tr>\n",
       "    <tr>\n",
       "      <th>18260</th>\n",
       "      <td>Li7Ho3Pb2O12</td>\n",
       "      <td>-6.200899</td>\n",
       "    </tr>\n",
       "    <tr>\n",
       "      <th>18261</th>\n",
       "      <td>Li7Ho3Ru2O12</td>\n",
       "      <td>-7.207215</td>\n",
       "    </tr>\n",
       "  </tbody>\n",
       "</table>\n",
       "<p>18262 rows × 2 columns</p>\n",
       "</div>"
      ],
      "text/plain": [
       "                 formula  prediction\n",
       "0      Li4.2Si0.8Ga0.2S4   -6.889458\n",
       "1      Li4.2Si0.8Fe0.2S4   -6.577390\n",
       "2      Li4.2Si0.8Cr0.2S4   -6.517595\n",
       "3      Li4.2Si0.8In0.2S4   -6.264806\n",
       "4      Li4.2Si0.8Co0.2S4   -6.521149\n",
       "...                  ...         ...\n",
       "18257       Li7Ho3Sn2O12   -6.548599\n",
       "18258       Li7Ho3Tb2O12   -7.818716\n",
       "18259       Li7Ho3Mo2O12   -7.085422\n",
       "18260       Li7Ho3Pb2O12   -6.200899\n",
       "18261       Li7Ho3Ru2O12   -7.207215\n",
       "\n",
       "[18262 rows x 2 columns]"
      ]
     },
     "execution_count": 52,
     "metadata": {},
     "output_type": "execute_result"
    }
   ],
   "source": [
    "model, scaler = joblib.load(model_url)\n",
    "\n",
    "X_new_data = scaler.transform(X_new_data)\n",
    "\n",
    "prediction = model.predict(X_new_data)\n",
    "df_predict = pd.DataFrame({'formula': new_data['new_formula'], 'prediction':prediction})\n",
    "df_predict"
   ]
  },
  {
   "cell_type": "code",
   "execution_count": 53,
   "id": "2ecf404e",
   "metadata": {},
   "outputs": [
    {
     "data": {
      "text/plain": [
       "<AxesSubplot:>"
      ]
     },
     "execution_count": 53,
     "metadata": {},
     "output_type": "execute_result"
    },
    {
     "data": {
      "image/png": "[encoded data removed]",
      "text/plain": [
       "<Figure size 432x288 with 1 Axes>"
      ]
     },
     "metadata": {
      "needs_background": "light"
     },
     "output_type": "display_data"
    }
   ],
   "source": [
    "df_predict['prediction'].hist()"
   ]
  },
  {
   "cell_type": "code",
   "execution_count": 54,
   "id": "9f65da53",
   "metadata": {},
   "outputs": [],
   "source": [
    "df_predict.to_csv(os.path.join(base_url, 'new_formula_prediction.csv'))"
   ]
  },
  {
   "cell_type": "code",
   "execution_count": null,
   "id": "10dfc119",
   "metadata": {},
   "outputs": [],
   "source": []
  }
 ],
 "metadata": {
  "kernelspec": {
   "display_name": "Python 3 (ipykernel)",
   "language": "python",
   "name": "python3"
  },
  "language_info": {
   "codemirror_mode": {
    "name": "ipython",
    "version": 3
   },
   "file_extension": ".py",
   "mimetype": "text/x-python",
   "name": "python",
   "nbconvert_exporter": "python",
   "pygments_lexer": "ipython3",
   "version": "3.9.7"
  }
 },
 "nbformat": 4,
 "nbformat_minor": 5
}
