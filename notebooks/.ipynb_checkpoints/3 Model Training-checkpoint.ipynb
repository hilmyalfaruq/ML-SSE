{
 "cells": [
  {
   "cell_type": "code",
   "execution_count": 4,
   "id": "c37ad367",
   "metadata": {},
   "outputs": [],
   "source": [
    "import os\n",
    "import sys\n",
    "current_dir = os.getcwd()\n",
    "base_dir = os.path.dirname(current_dir)\n",
    "\n",
    "sys.path.append(base_dir)"
   ]
  },
  {
   "cell_type": "code",
   "execution_count": 1,
   "id": "64563e0e",
   "metadata": {},
   "outputs": [
    {
     "name": "stderr",
     "output_type": "stream",
     "text": [
      "C:\\Users\\A1\\miniconda3\\envs\\nbl\\lib\\site-packages\\xgboost\\compat.py:36: FutureWarning: pandas.Int64Index is deprecated and will be removed from pandas in a future version. Use pandas.Index with the appropriate dtype instead.\n",
      "  from pandas import MultiIndex, Int64Index\n"
     ]
    },
    {
     "ename": "ModuleNotFoundError",
     "evalue": "No module named 'utilities'",
     "output_type": "error",
     "traceback": [
      "\u001b[1;31m---------------------------------------------------------------------------\u001b[0m",
      "\u001b[1;31mModuleNotFoundError\u001b[0m                       Traceback (most recent call last)",
      "Input \u001b[1;32mIn [1]\u001b[0m, in \u001b[0;36m<cell line: 8>\u001b[1;34m()\u001b[0m\n\u001b[0;32m      6\u001b[0m \u001b[38;5;28;01mfrom\u001b[39;00m \u001b[38;5;21;01mxgboost\u001b[39;00m\u001b[38;5;21;01m.\u001b[39;00m\u001b[38;5;21;01msklearn\u001b[39;00m \u001b[38;5;28;01mimport\u001b[39;00m XGBRegressor\n\u001b[0;32m      7\u001b[0m \u001b[38;5;28;01mimport\u001b[39;00m \u001b[38;5;21;01msklearn\u001b[39;00m\u001b[38;5;21;01m.\u001b[39;00m\u001b[38;5;21;01mmetrics\u001b[39;00m \u001b[38;5;28;01mas\u001b[39;00m \u001b[38;5;21;01mmetrics\u001b[39;00m\n\u001b[1;32m----> 8\u001b[0m \u001b[38;5;28;01mfrom\u001b[39;00m \u001b[38;5;21;01mutilities\u001b[39;00m \u001b[38;5;28;01mimport\u001b[39;00m featurization \u001b[38;5;28;01mas\u001b[39;00m fzn\n\u001b[0;32m      9\u001b[0m \u001b[38;5;28;01mimport\u001b[39;00m \u001b[38;5;21;01mjoblib\u001b[39;00m\n\u001b[0;32m     11\u001b[0m base_url \u001b[38;5;241m=\u001b[39m \u001b[38;5;124m'\u001b[39m\u001b[38;5;124mD:/GITHUB/ML_SSE\u001b[39m\u001b[38;5;124m'\u001b[39m\n",
      "\u001b[1;31mModuleNotFoundError\u001b[0m: No module named 'utilities'"
     ]
    }
   ],
   "source": [
    "import pandas as pd\n",
    "import os\n",
    "from os import listdir\n",
    "from sklearn.preprocessing import MinMaxScaler\n",
    "from sklearn.ensemble import RandomForestRegressor\n",
    "from xgboost.sklearn import XGBRegressor\n",
    "import sklearn.metrics as metrics\n",
    "from utilities import featurization as fzn\n",
    "import joblib\n",
    "\n",
    "# The directory contains the dataset that has been divided into train, val, and test data with a 5 fold cross validation scheme\n",
    "data_url = os.path.join(base_dir, 'data/preprocessed_dataset/5fold_cv')"
   ]
  },
  {
   "cell_type": "markdown",
   "id": "05d2b2c8",
   "metadata": {},
   "source": [
    "## Model Evaluation"
   ]
  },
  {
   "cell_type": "code",
   "execution_count": 7,
   "id": "3d735ff8",
   "metadata": {},
   "outputs": [],
   "source": [
    "def reader_dataset(url):\n",
    "    list_folder = listdir(url)\n",
    "    list_df = []\n",
    "    for f in list_folder:\n",
    "        df_train = pd.read_csv(url+'/'+f+'/train.csv')\n",
    "        df_val = pd.read_csv(url+'/'+f+'/val.csv')\n",
    "        df_test = pd.read_csv(url+'/'+f+'/test.csv')\n",
    "        list_df.append([df_train, df_test])\n",
    "    return list_df\n",
    "\n",
    "def confusion_matrix_calc(actual_, predict_, boundary):\n",
    "    assert len(actual_)==len(predict_)\n",
    "    TP = 0\n",
    "    TN = 0\n",
    "    FP = 0\n",
    "    FN = 0\n",
    "    for n in range(len(actual_)):\n",
    "        if actual_[n]>=boundary and predict_[n]>=boundary:\n",
    "            TP+=1\n",
    "        elif actual_[n]<boundary and predict_[n]<boundary:\n",
    "            TN+=1\n",
    "        elif actual_[n]>=boundary and predict_[n]<boundary:\n",
    "            FN+=1\n",
    "        elif actual_[n]<boundary and predict_[n]>=boundary:\n",
    "            FP+=1\n",
    "    return TP, TN, FP, FN\n",
    "\n",
    "def model_test(train, test, model):\n",
    "    X_train, y_train, formulae_train = fzn.apply_scheme(train['formula'], list(train['target']))\n",
    "    X_test, y_test, formulae_test = fzn.apply_scheme(test['formula'], list(test['target']))\n",
    "    \n",
    "    scalar = MinMaxScaler()\n",
    "    X_train_scaled = scalar.fit_transform(X_train)\n",
    "    X_test_scaled = scalar.transform(X_test)\n",
    "    print\n",
    "    model.fit(X_train_scaled, y_train)\n",
    "    y_pred = model.predict(X_test_scaled)\n",
    "    \n",
    "    return y_test, y_pred, formulae_test"
   ]
  },
  {
   "cell_type": "code",
   "execution_count": 8,
   "id": "80e13683",
   "metadata": {},
   "outputs": [
    {
     "name": "stdout",
     "output_type": "stream",
     "text": [
      "(649, 159)\n",
      "(203, 159)\n"
     ]
    },
    {
     "name": "stderr",
     "output_type": "stream",
     "text": [
      "C:\\Users\\A1\\miniconda3\\envs\\nbl\\lib\\site-packages\\sklearn\\utils\\validation.py:1688: FutureWarning: Feature names only support names that are all strings. Got feature names with dtypes: ['str', 'str_']. An error will be raised in 1.2.\n",
      "  warnings.warn(\n",
      "C:\\Users\\A1\\miniconda3\\envs\\nbl\\lib\\site-packages\\sklearn\\utils\\validation.py:1688: FutureWarning: Feature names only support names that are all strings. Got feature names with dtypes: ['str', 'str_']. An error will be raised in 1.2.\n",
      "  warnings.warn(\n",
      "C:\\Users\\A1\\miniconda3\\envs\\nbl\\lib\\site-packages\\sklearn\\utils\\validation.py:1688: FutureWarning: Feature names only support names that are all strings. Got feature names with dtypes: ['str', 'str_']. An error will be raised in 1.2.\n",
      "  warnings.warn(\n"
     ]
    },
    {
     "name": "stdout",
     "output_type": "stream",
     "text": [
      "TP=93, TN=92, FP=8, FN=10\n",
      "Fold 1 - MAE: 0.5607234109082816 - F1: 0.911764705882353\n",
      "(649, 159)\n",
      "(203, 159)\n"
     ]
    },
    {
     "name": "stderr",
     "output_type": "stream",
     "text": [
      "C:\\Users\\A1\\miniconda3\\envs\\nbl\\lib\\site-packages\\sklearn\\utils\\validation.py:1688: FutureWarning: Feature names only support names that are all strings. Got feature names with dtypes: ['str', 'str_']. An error will be raised in 1.2.\n",
      "  warnings.warn(\n",
      "C:\\Users\\A1\\miniconda3\\envs\\nbl\\lib\\site-packages\\sklearn\\utils\\validation.py:1688: FutureWarning: Feature names only support names that are all strings. Got feature names with dtypes: ['str', 'str_']. An error will be raised in 1.2.\n",
      "  warnings.warn(\n",
      "C:\\Users\\A1\\miniconda3\\envs\\nbl\\lib\\site-packages\\sklearn\\utils\\validation.py:1688: FutureWarning: Feature names only support names that are all strings. Got feature names with dtypes: ['str', 'str_']. An error will be raised in 1.2.\n",
      "  warnings.warn(\n"
     ]
    },
    {
     "name": "stdout",
     "output_type": "stream",
     "text": [
      "TP=93, TN=92, FP=8, FN=10\n",
      "Fold 2 - MAE: 0.5135982690194147 - F1: 0.911764705882353\n",
      "(650, 159)\n",
      "(203, 159)\n"
     ]
    },
    {
     "name": "stderr",
     "output_type": "stream",
     "text": [
      "C:\\Users\\A1\\miniconda3\\envs\\nbl\\lib\\site-packages\\sklearn\\utils\\validation.py:1688: FutureWarning: Feature names only support names that are all strings. Got feature names with dtypes: ['str', 'str_']. An error will be raised in 1.2.\n",
      "  warnings.warn(\n",
      "C:\\Users\\A1\\miniconda3\\envs\\nbl\\lib\\site-packages\\sklearn\\utils\\validation.py:1688: FutureWarning: Feature names only support names that are all strings. Got feature names with dtypes: ['str', 'str_']. An error will be raised in 1.2.\n",
      "  warnings.warn(\n",
      "C:\\Users\\A1\\miniconda3\\envs\\nbl\\lib\\site-packages\\sklearn\\utils\\validation.py:1688: FutureWarning: Feature names only support names that are all strings. Got feature names with dtypes: ['str', 'str_']. An error will be raised in 1.2.\n",
      "  warnings.warn(\n"
     ]
    },
    {
     "name": "stdout",
     "output_type": "stream",
     "text": [
      "TP=89, TN=85, FP=15, FN=14\n",
      "Fold 3 - MAE: 0.5279448430867703 - F1: 0.8599033816425121\n",
      "(650, 159)\n",
      "(203, 159)\n"
     ]
    },
    {
     "name": "stderr",
     "output_type": "stream",
     "text": [
      "C:\\Users\\A1\\miniconda3\\envs\\nbl\\lib\\site-packages\\sklearn\\utils\\validation.py:1688: FutureWarning: Feature names only support names that are all strings. Got feature names with dtypes: ['str', 'str_']. An error will be raised in 1.2.\n",
      "  warnings.warn(\n",
      "C:\\Users\\A1\\miniconda3\\envs\\nbl\\lib\\site-packages\\sklearn\\utils\\validation.py:1688: FutureWarning: Feature names only support names that are all strings. Got feature names with dtypes: ['str', 'str_']. An error will be raised in 1.2.\n",
      "  warnings.warn(\n",
      "C:\\Users\\A1\\miniconda3\\envs\\nbl\\lib\\site-packages\\sklearn\\utils\\validation.py:1688: FutureWarning: Feature names only support names that are all strings. Got feature names with dtypes: ['str', 'str_']. An error will be raised in 1.2.\n",
      "  warnings.warn(\n"
     ]
    },
    {
     "name": "stdout",
     "output_type": "stream",
     "text": [
      "TP=90, TN=92, FP=8, FN=13\n",
      "Fold 4 - MAE: 0.5563552944036609 - F1: 0.8955223880597014\n",
      "(650, 159)\n",
      "(203, 159)\n"
     ]
    },
    {
     "name": "stderr",
     "output_type": "stream",
     "text": [
      "C:\\Users\\A1\\miniconda3\\envs\\nbl\\lib\\site-packages\\sklearn\\utils\\validation.py:1688: FutureWarning: Feature names only support names that are all strings. Got feature names with dtypes: ['str', 'str_']. An error will be raised in 1.2.\n",
      "  warnings.warn(\n",
      "C:\\Users\\A1\\miniconda3\\envs\\nbl\\lib\\site-packages\\sklearn\\utils\\validation.py:1688: FutureWarning: Feature names only support names that are all strings. Got feature names with dtypes: ['str', 'str_']. An error will be raised in 1.2.\n",
      "  warnings.warn(\n",
      "C:\\Users\\A1\\miniconda3\\envs\\nbl\\lib\\site-packages\\sklearn\\utils\\validation.py:1688: FutureWarning: Feature names only support names that are all strings. Got feature names with dtypes: ['str', 'str_']. An error will be raised in 1.2.\n",
      "  warnings.warn(\n"
     ]
    },
    {
     "name": "stdout",
     "output_type": "stream",
     "text": [
      "TP=95, TN=87, FP=13, FN=8\n",
      "Fold 5 - MAE: 0.547583857388705 - F1: 0.9004739336492891\n",
      "Avg MAE: 0.5412411349613665 - Avg Recall: 0.8932038834951456 - Avg Precision: 0.8990700731506955 - Avg F1: 0.8958858230232417\n",
      "Avg R2: 0.6244648735772864 - Avg RMSE: 0.9359104559956156\n"
     ]
    }
   ],
   "source": [
    "mae_list = []\n",
    "pred_list = []\n",
    "y_list = []\n",
    "formula_list = []\n",
    "recall_list = []\n",
    "precision_list = []\n",
    "f1_list = []\n",
    "rmse_list = []\n",
    "r2_list = []\n",
    "\n",
    "data_kfold = reader_dataset(data_url) #read data\n",
    "\n",
    "for d in range(len(data_kfold)):\n",
    "    train = data_kfold[d][0]\n",
    "    test = data_kfold[d][1]\n",
    "    \n",
    "#     model = RandomForestRegressor(random_state = 1, n_estimators= 300, min_samples_split= 5, min_samples_leaf= 2, max_features= 'sqrt', max_depth= 50, bootstrap= False)\n",
    "    model = XGBRegressor(random_state = 0, n_estimators= 300, max_depth=7, learning_rate=0.1, colsample_bytree=0.6)\n",
    "    \n",
    "    y_test, y_pred, formulae_test = model_test(train, test, model)\n",
    "\n",
    "    mae = metrics.mean_absolute_error(y_test, y_pred)\n",
    "    r2 = metrics.r2_score(y_test, y_pred)\n",
    "    rmse = metrics.mean_squared_error(y_test, y_pred, squared=False)\n",
    "\n",
    "    mae_list.append(mae)\n",
    "    r2_list.append(r2)\n",
    "    rmse_list.append(rmse)\n",
    "    pred_list.append(list(y_pred))\n",
    "    y_list.append(list(y_test))\n",
    "    formula_list.append(list(formulae_test))\n",
    "\n",
    "    TP, TN, FP, FN = confusion_matrix_calc(y_test, y_pred, -4)\n",
    "    print('TP={}, TN={}, FP={}, FN={}'.format(TP, TN, FP, FN))\n",
    "    rec_ = TP/(TP+FN)\n",
    "    pre_ = TP/(TP+FP)\n",
    "    f1_score = 2 * (pre_ * rec_) / (pre_ + rec_)\n",
    "    recall_list.append(rec_)\n",
    "    precision_list.append(pre_)\n",
    "    f1_list.append(f1_score)\n",
    "    \n",
    "    print('Fold {} - MAE: {} - F1: {}'.format(d+1, mae, f1_score))\n",
    "    \n",
    "print('Avg MAE: {} - Avg Recall: {} - Avg Precision: {} - Avg F1: {}'.format(sum(mae_list)/len(mae_list), sum(recall_list)/len(recall_list), sum(precision_list)/len(precision_list), sum(f1_list)/len(f1_list)))\n",
    "print('Avg R2: {} - Avg RMSE: {}'.format(sum(r2_list)/len(r2_list), sum(rmse_list)/len(rmse_list)))"
   ]
  },
  {
   "cell_type": "markdown",
   "id": "26cd08c4",
   "metadata": {},
   "source": [
    "## Training\n"
   ]
  },
  {
   "cell_type": "code",
   "execution_count": 9,
   "id": "1eb05e92",
   "metadata": {},
   "outputs": [
    {
     "name": "stdout",
     "output_type": "stream",
     "text": [
      "(1015, 159)\n"
     ]
    },
    {
     "name": "stderr",
     "output_type": "stream",
     "text": [
      "C:\\Users\\A1\\miniconda3\\envs\\nbl\\lib\\site-packages\\sklearn\\utils\\validation.py:1688: FutureWarning: Feature names only support names that are all strings. Got feature names with dtypes: ['str', 'str_']. An error will be raised in 1.2.\n",
      "  warnings.warn(\n",
      "C:\\Users\\A1\\miniconda3\\envs\\nbl\\lib\\site-packages\\sklearn\\utils\\validation.py:1688: FutureWarning: Feature names only support names that are all strings. Got feature names with dtypes: ['str', 'str_']. An error will be raised in 1.2.\n",
      "  warnings.warn(\n"
     ]
    },
    {
     "data": {
      "text/plain": [
       "['D:/GITHUB/ML_SSE\\\\model.joblib']"
      ]
     },
     "execution_count": 9,
     "metadata": {},
     "output_type": "execute_result"
    }
   ],
   "source": [
    "train1 = pd.read_csv(data_url+'/1/train.csv')\n",
    "val1 = pd.read_csv(data_url+'/1/val.csv')\n",
    "test1 = pd.read_csv(data_url+'/1/test.csv')\n",
    "all_data = pd.concat([train1, val1, test1]).reset_index()\n",
    "\n",
    "X_data, y_data, _ = fzn.apply_scheme(all_data['formula'], list(all_data['target']))\n",
    "scaler = MinMaxScaler()\n",
    "X_train_scaled = scaler.fit_transform(X_data)\n",
    "    \n",
    "# model = RandomForestRegressor(random_state = 1, n_estimators= 300, min_samples_split= 5, min_samples_leaf= 2, max_features= 'sqrt', max_depth= 50, bootstrap= False)\n",
    "model = XGBRegressor(random_state = 0, n_estimators= 300, max_depth=7, learning_rate=0.1, colsample_bytree=0.6)\n",
    "model.fit(X_train_scaled, y_data)\n",
    "\n",
    "data_to_save = [model, scaler]\n",
    "model_url = os.path.join(base_url, 'model.joblib')\n",
    "joblib.dump(data_to_save, model_url)"
   ]
  },
  {
   "cell_type": "markdown",
   "id": "6f6b315b",
   "metadata": {},
   "source": [
    "## Predict new data"
   ]
  },
  {
   "cell_type": "code",
   "execution_count": 58,
   "id": "750b9406",
   "metadata": {},
   "outputs": [],
   "source": [
    "list_data = ['Li10.2(Te0.2Si0.8)1.2P1.8S12',\n",
    "'Li10.2(Ti0.2Si0.8)1.2P1.8S12',\n",
    "'Li10.2(Zr0.2Si0.8)1.2P1.8S12',\n",
    "'Li49.6Ti1.6La24Zr14.4Nb1.6O96',\n",
    "'Li6.75La3Zr1.75Nb0.25O12',\n",
    "'(Li0.39La0.54)1.01In0.02Ti0.98O3',\n",
    "'Li6.175P0.825Si0.175S5Cl',\n",
    "'Li0.5La0.5Ti0.96Tb0.04O3',\n",
    "'Li6.4La3Zr1.7W0.3O12',\n",
    "'Li6.025P0.975Si0.025S5Cl',\n",
    "'Li2.633Eu0.633Mo0.367Cl6',\n",
    "'Li2.633Y0.633Zr0.367Cl6',\n",
    "'Li2.633Tb0.633Zr0.367Cl6',\n",
    "'Li6.25In0.25La3Zr2O12',\n",
    "'Li2.633Dy0.633Ti0.367Cl6',\n",
    "'Li6.6La2.875Dy0.125Zr1.6Ta0.4O12',\n",
    "'Li6.6La2.875Sm0.125Zr1.6Ta0.4O12',\n",
    "'Li2.633Sm0.633Zr0.367Cl6',\n",
    "'Li2.633Gd0.633Ti0.367Cl6',\n",
    "'(Li0.39La0.54)1.01Mo0.02Ti0.98O3',]\n",
    "\n",
    "new_data = pd.DataFrame({'new_formula': list_data})"
   ]
  },
  {
   "cell_type": "code",
   "execution_count": 59,
   "id": "594874a7",
   "metadata": {},
   "outputs": [],
   "source": [
    "# new_data = pd.read_csv(os.path.join(base_url, 'element_substitution/new_formula.csv'))\n",
    "dummy_target = [0]*len(new_data)"
   ]
  },
  {
   "cell_type": "code",
   "execution_count": 60,
   "id": "bed2c64d",
   "metadata": {
    "scrolled": true
   },
   "outputs": [
    {
     "name": "stdout",
     "output_type": "stream",
     "text": [
      "(20, 159)\n"
     ]
    }
   ],
   "source": [
    "X_new_data, y_new_data, formulae_new_data = fzn.apply_scheme(new_data['new_formula'], dummy_target)"
   ]
  },
  {
   "cell_type": "code",
   "execution_count": 61,
   "id": "6dcc071d",
   "metadata": {},
   "outputs": [
    {
     "name": "stderr",
     "output_type": "stream",
     "text": [
      "C:\\Users\\A1\\miniconda3\\envs\\nbl\\lib\\site-packages\\sklearn\\utils\\validation.py:1688: FutureWarning: Feature names only support names that are all strings. Got feature names with dtypes: ['str', 'str_']. An error will be raised in 1.2.\n",
      "  warnings.warn(\n"
     ]
    },
    {
     "data": {
      "text/html": [
       "<div>\n",
       "<style scoped>\n",
       "    .dataframe tbody tr th:only-of-type {\n",
       "        vertical-align: middle;\n",
       "    }\n",
       "\n",
       "    .dataframe tbody tr th {\n",
       "        vertical-align: top;\n",
       "    }\n",
       "\n",
       "    .dataframe thead th {\n",
       "        text-align: right;\n",
       "    }\n",
       "</style>\n",
       "<table border=\"1\" class=\"dataframe\">\n",
       "  <thead>\n",
       "    <tr style=\"text-align: right;\">\n",
       "      <th></th>\n",
       "      <th>formula</th>\n",
       "      <th>prediction</th>\n",
       "    </tr>\n",
       "  </thead>\n",
       "  <tbody>\n",
       "    <tr>\n",
       "      <th>0</th>\n",
       "      <td>Li10.2(Te0.2Si0.8)1.2P1.8S12</td>\n",
       "      <td>-2.473207</td>\n",
       "    </tr>\n",
       "    <tr>\n",
       "      <th>1</th>\n",
       "      <td>Li10.2(Ti0.2Si0.8)1.2P1.8S12</td>\n",
       "      <td>-2.839264</td>\n",
       "    </tr>\n",
       "    <tr>\n",
       "      <th>2</th>\n",
       "      <td>Li10.2(Zr0.2Si0.8)1.2P1.8S12</td>\n",
       "      <td>-2.924278</td>\n",
       "    </tr>\n",
       "    <tr>\n",
       "      <th>3</th>\n",
       "      <td>Li49.6Ti1.6La24Zr14.4Nb1.6O96</td>\n",
       "      <td>-3.350885</td>\n",
       "    </tr>\n",
       "    <tr>\n",
       "      <th>4</th>\n",
       "      <td>Li6.75La3Zr1.75Nb0.25O12</td>\n",
       "      <td>-3.138746</td>\n",
       "    </tr>\n",
       "    <tr>\n",
       "      <th>5</th>\n",
       "      <td>(Li0.39La0.54)1.01In0.02Ti0.98O3</td>\n",
       "      <td>-3.058140</td>\n",
       "    </tr>\n",
       "    <tr>\n",
       "      <th>6</th>\n",
       "      <td>Li6.175P0.825Si0.175S5Cl</td>\n",
       "      <td>-3.178348</td>\n",
       "    </tr>\n",
       "    <tr>\n",
       "      <th>7</th>\n",
       "      <td>Li0.5La0.5Ti0.96Tb0.04O3</td>\n",
       "      <td>-3.686523</td>\n",
       "    </tr>\n",
       "    <tr>\n",
       "      <th>8</th>\n",
       "      <td>Li6.4La3Zr1.7W0.3O12</td>\n",
       "      <td>-3.198523</td>\n",
       "    </tr>\n",
       "    <tr>\n",
       "      <th>9</th>\n",
       "      <td>Li6.025P0.975Si0.025S5Cl</td>\n",
       "      <td>-3.182664</td>\n",
       "    </tr>\n",
       "    <tr>\n",
       "      <th>10</th>\n",
       "      <td>Li2.633Eu0.633Mo0.367Cl6</td>\n",
       "      <td>-3.944782</td>\n",
       "    </tr>\n",
       "    <tr>\n",
       "      <th>11</th>\n",
       "      <td>Li2.633Y0.633Zr0.367Cl6</td>\n",
       "      <td>-2.918918</td>\n",
       "    </tr>\n",
       "    <tr>\n",
       "      <th>12</th>\n",
       "      <td>Li2.633Tb0.633Zr0.367Cl6</td>\n",
       "      <td>-2.959660</td>\n",
       "    </tr>\n",
       "    <tr>\n",
       "      <th>13</th>\n",
       "      <td>Li6.25In0.25La3Zr2O12</td>\n",
       "      <td>-3.504125</td>\n",
       "    </tr>\n",
       "    <tr>\n",
       "      <th>14</th>\n",
       "      <td>Li2.633Dy0.633Ti0.367Cl6</td>\n",
       "      <td>-3.579787</td>\n",
       "    </tr>\n",
       "    <tr>\n",
       "      <th>15</th>\n",
       "      <td>Li6.6La2.875Dy0.125Zr1.6Ta0.4O12</td>\n",
       "      <td>-3.451500</td>\n",
       "    </tr>\n",
       "    <tr>\n",
       "      <th>16</th>\n",
       "      <td>Li6.6La2.875Sm0.125Zr1.6Ta0.4O12</td>\n",
       "      <td>-3.526482</td>\n",
       "    </tr>\n",
       "    <tr>\n",
       "      <th>17</th>\n",
       "      <td>Li2.633Sm0.633Zr0.367Cl6</td>\n",
       "      <td>-3.411067</td>\n",
       "    </tr>\n",
       "    <tr>\n",
       "      <th>18</th>\n",
       "      <td>Li2.633Gd0.633Ti0.367Cl6</td>\n",
       "      <td>-3.179362</td>\n",
       "    </tr>\n",
       "    <tr>\n",
       "      <th>19</th>\n",
       "      <td>(Li0.39La0.54)1.01Mo0.02Ti0.98O3</td>\n",
       "      <td>-3.497883</td>\n",
       "    </tr>\n",
       "  </tbody>\n",
       "</table>\n",
       "</div>"
      ],
      "text/plain": [
       "                             formula  prediction\n",
       "0       Li10.2(Te0.2Si0.8)1.2P1.8S12   -2.473207\n",
       "1       Li10.2(Ti0.2Si0.8)1.2P1.8S12   -2.839264\n",
       "2       Li10.2(Zr0.2Si0.8)1.2P1.8S12   -2.924278\n",
       "3      Li49.6Ti1.6La24Zr14.4Nb1.6O96   -3.350885\n",
       "4           Li6.75La3Zr1.75Nb0.25O12   -3.138746\n",
       "5   (Li0.39La0.54)1.01In0.02Ti0.98O3   -3.058140\n",
       "6           Li6.175P0.825Si0.175S5Cl   -3.178348\n",
       "7           Li0.5La0.5Ti0.96Tb0.04O3   -3.686523\n",
       "8               Li6.4La3Zr1.7W0.3O12   -3.198523\n",
       "9           Li6.025P0.975Si0.025S5Cl   -3.182664\n",
       "10          Li2.633Eu0.633Mo0.367Cl6   -3.944782\n",
       "11           Li2.633Y0.633Zr0.367Cl6   -2.918918\n",
       "12          Li2.633Tb0.633Zr0.367Cl6   -2.959660\n",
       "13             Li6.25In0.25La3Zr2O12   -3.504125\n",
       "14          Li2.633Dy0.633Ti0.367Cl6   -3.579787\n",
       "15  Li6.6La2.875Dy0.125Zr1.6Ta0.4O12   -3.451500\n",
       "16  Li6.6La2.875Sm0.125Zr1.6Ta0.4O12   -3.526482\n",
       "17          Li2.633Sm0.633Zr0.367Cl6   -3.411067\n",
       "18          Li2.633Gd0.633Ti0.367Cl6   -3.179362\n",
       "19  (Li0.39La0.54)1.01Mo0.02Ti0.98O3   -3.497883"
      ]
     },
     "execution_count": 61,
     "metadata": {},
     "output_type": "execute_result"
    }
   ],
   "source": [
    "model, scaler = joblib.load(model_url)\n",
    "\n",
    "X_new_data = scaler.transform(X_new_data)\n",
    "\n",
    "prediction = model.predict(X_new_data)\n",
    "df_predict = pd.DataFrame({'formula': new_data['new_formula'], 'prediction':prediction})\n",
    "df_predict"
   ]
  },
  {
   "cell_type": "code",
   "execution_count": 17,
   "id": "2ecf404e",
   "metadata": {},
   "outputs": [
    {
     "data": {
      "text/plain": [
       "<AxesSubplot:>"
      ]
     },
     "execution_count": 17,
     "metadata": {},
     "output_type": "execute_result"
    },
    {
     "data": {
      "image/png": "[encoded data removed]",
      "text/plain": [
       "<Figure size 432x288 with 1 Axes>"
      ]
     },
     "metadata": {
      "needs_background": "light"
     },
     "output_type": "display_data"
    }
   ],
   "source": [
    "df_predict['prediction'].hist()"
   ]
  },
  {
   "cell_type": "code",
   "execution_count": 62,
   "id": "9f65da53",
   "metadata": {},
   "outputs": [],
   "source": [
    "# df_predict.to_csv(os.path.join(base_url, 'new_formula_prediction.csv'))"
   ]
  },
  {
   "cell_type": "code",
   "execution_count": null,
   "id": "10dfc119",
   "metadata": {},
   "outputs": [],
   "source": []
  }
 ],
 "metadata": {
  "kernelspec": {
   "display_name": "Python 3 (ipykernel)",
   "language": "python",
   "name": "python3"
  },
  "language_info": {
   "codemirror_mode": {
    "name": "ipython",
    "version": 3
   },
   "file_extension": ".py",
   "mimetype": "text/x-python",
   "name": "python",
   "nbconvert_exporter": "python",
   "pygments_lexer": "ipython3",
   "version": "3.9.12"
  }
 },
 "nbformat": 4,
 "nbformat_minor": 5
}
